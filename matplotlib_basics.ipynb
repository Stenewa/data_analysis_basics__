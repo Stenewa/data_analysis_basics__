{
 "cells": [
  {
   "cell_type": "code",
   "execution_count": 2,
   "id": "96eaa0db-b2b6-4a36-b98c-338fe649ee44",
   "metadata": {},
   "outputs": [],
   "source": [
    "import matplotlib.pyplot as plt\n",
    "import numpy as np"
   ]
  },
  {
   "cell_type": "code",
   "execution_count": 4,
   "id": "72a5400a-3c95-465d-95ca-4412d6b52979",
   "metadata": {},
   "outputs": [],
   "source": [
    "arr1=np.array([4,3,5,54,43])\n",
    "arr2=np.array([[13,542,6465],[43,662,54]])\n",
    "arr3=np.array([[23,564,56,75],[24,65,75,76]])"
   ]
  },
  {
   "cell_type": "code",
   "execution_count": 5,
   "id": "0a62a173-c8b6-4ff4-bdc4-83613248cae1",
   "metadata": {},
   "outputs": [
    {
     "data": {
      "text/plain": [
       "(array([3., 0., 0., 0., 0., 0., 0., 1., 0., 1.]),\n",
       " array([ 3. ,  8.1, 13.2, 18.3, 23.4, 28.5, 33.6, 38.7, 43.8, 48.9, 54. ]),\n",
       " <BarContainer object of 10 artists>)"
      ]
     },
     "execution_count": 5,
     "metadata": {},
     "output_type": "execute_result"
    },
    {
     "data": {
      "image/png": "[encoded data removed]",
      "text/plain": [
       "<Figure size 432x288 with 1 Axes>"
      ]
     },
     "metadata": {
      "needs_background": "light"
     },
     "output_type": "display_data"
    }
   ],
   "source": [
    "plt.hist(arr1)"
   ]
  },
  {
   "cell_type": "code",
   "execution_count": null,
   "id": "8a097fa0-0b63-4f9e-a9d0-f917127b5e3f",
   "metadata": {},
   "outputs": [],
   "source": []
  }
 ],
 "metadata": {
  "kernelspec": {
   "display_name": "Python 3 (ipykernel)",
   "language": "python",
   "name": "python3"
  },
  "language_info": {
   "codemirror_mode": {
    "name": "ipython",
    "version": 3
   },
   "file_extension": ".py",
   "mimetype": "text/x-python",
   "name": "python",
   "nbconvert_exporter": "python",
   "pygments_lexer": "ipython3",
   "version": "3.10.5"
  }
 },
 "nbformat": 4,
 "nbformat_minor": 5
}
