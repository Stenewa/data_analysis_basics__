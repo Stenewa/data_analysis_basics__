{
 "cells": [
  {
   "cell_type": "code",
   "execution_count": 2,
   "id": "2d5e4c38-8267-4cf4-8938-b881631573d9",
   "metadata": {},
   "outputs": [],
   "source": [
    "import numpy as np\n",
    "import pandas as pd"
   ]
  },
  {
   "cell_type": "markdown",
   "id": "97f80cb5-7b6e-4e6a-ad4f-5344aee0f3ed",
   "metadata": {},
   "source": [
    "# Creating arrays in numpy\n",
    "**Arrays can be created using numpy**\n",
    "\n",
    "*1. Ranks*\n",
    "\n",
    "*2. Tuples*\n"
   ]
  },
  {
   "cell_type": "markdown",
   "id": "509b5bf8-bce1-46ad-9fa8-e6c5ba92a5c8",
   "metadata": {},
   "source": [
    "## Ranks arrays"
   ]
  },
  {
   "cell_type": "code",
   "execution_count": 3,
   "id": "85f31988-b883-4e52-a848-004626cb70a6",
   "metadata": {},
   "outputs": [
    {
     "name": "stdout",
     "output_type": "stream",
     "text": [
      "[1 2 3]\n",
      "[[1 2 3]\n",
      " [4 5 6]]\n"
     ]
    }
   ],
   "source": [
    "# Rank 1 arrays\n",
    "rank1_arr=np.array([1,2,3])\n",
    "print(rank1_arr)\n",
    "# Rank 2 arrays\n",
    "rank2_arr=np.array([[1,2,3],[4,5,6]])\n",
    "print(rank2_arr)"
   ]
  },
  {
   "cell_type": "markdown",
   "id": "3da784ec-0e32-419d-ad04-2916d7dda01d",
   "metadata": {},
   "source": [
    "## Tuples"
   ]
  },
  {
   "cell_type": "code",
   "execution_count": 4,
   "id": "eedfc6da-2671-4da5-b8d9-2822ef6ec447",
   "metadata": {},
   "outputs": [
    {
     "name": "stdout",
     "output_type": "stream",
     "text": [
      "[1 2 3]\n"
     ]
    }
   ],
   "source": [
    "tup_arr=np.array((1,2,3))\n",
    "print(tup_arr)"
   ]
  },
  {
   "cell_type": "markdown",
   "id": "d16bdcbc-26ce-4167-a916-5d7204d0395c",
   "metadata": {},
   "source": [
    "# Accesing values in arrays\n",
    "**The number of dimensions specify the number indices used to access values in an array**"
   ]
  },
  {
   "cell_type": "code",
   "execution_count": 5,
   "id": "3c5c7e0b-c19d-4647-ae51-1d56e590f0d3",
   "metadata": {},
   "outputs": [],
   "source": [
    "arr1=np.array([4,3,5,54,43])\n",
    "arr2=np.array([[13,542,6465],[43,662,54]])\n",
    "arr3=np.array([[23,564,56,75],[24,65,75,76]])"
   ]
  },
  {
   "cell_type": "markdown",
   "id": "74c9d805-9aca-4461-89f7-04c34fc43fec",
   "metadata": {},
   "source": [
    " ## To know the number of dimensions in an array"
   ]
  },
  {
   "cell_type": "code",
   "execution_count": 6,
   "id": "7cc67b1c-fa4e-4c81-adf5-8f40d826df64",
   "metadata": {},
   "outputs": [
    {
     "name": "stdout",
     "output_type": "stream",
     "text": [
      "1\n",
      "2\n",
      "2\n"
     ]
    }
   ],
   "source": [
    "arrayone=arr1.ndim\n",
    "arraytwo=arr2.ndim\n",
    "arraythree=arr3.ndim\n",
    "print(arrayone)\n",
    "print(arraytwo)\n",
    "print(arraythree)"
   ]
  },
  {
   "cell_type": "markdown",
   "id": "bb254ccc-5ddc-472b-b131-404773bcaa3b",
   "metadata": {},
   "source": [
    "## Accessing the arrays"
   ]
  },
  {
   "cell_type": "code",
   "execution_count": 7,
   "id": "9c2acae3-a02a-44ea-82c4-fa4512d1b968",
   "metadata": {},
   "outputs": [
    {
     "name": "stdout",
     "output_type": "stream",
     "text": [
      "5\n"
     ]
    }
   ],
   "source": [
    "# Access 5 in arr1\n",
    "print(arr1[2])"
   ]
  },
  {
   "cell_type": "code",
   "execution_count": 8,
   "id": "e0779311-aa7e-443b-a2c9-a04442a884d4",
   "metadata": {},
   "outputs": [
    {
     "name": "stdout",
     "output_type": "stream",
     "text": [
      "54\n"
     ]
    }
   ],
   "source": [
    "# access 54 in arr2\n",
    "print(arr2[1,2])"
   ]
  },
  {
   "cell_type": "markdown",
   "id": "f3fb9948-f845-4950-a09e-27e9f3d6d24e",
   "metadata": {},
   "source": [
    "## Shape function"
   ]
  },
  {
   "cell_type": "code",
   "execution_count": 9,
   "id": "c3b147fa-dd55-4647-a785-ef280b2e0e16",
   "metadata": {},
   "outputs": [
    {
     "data": {
      "text/plain": [
       "(5,)"
      ]
     },
     "execution_count": 9,
     "metadata": {},
     "output_type": "execute_result"
    }
   ],
   "source": [
    "arr1.shape\n"
   ]
  },
  {
   "cell_type": "code",
   "execution_count": 10,
   "id": "0d0bbbea-086b-49db-9a4e-f45980716ef4",
   "metadata": {},
   "outputs": [
    {
     "data": {
      "text/plain": [
       "(2, 3)"
      ]
     },
     "execution_count": 10,
     "metadata": {},
     "output_type": "execute_result"
    }
   ],
   "source": [
    "arr2.shape\n"
   ]
  },
  {
   "cell_type": "markdown",
   "id": "3b096805-7c2d-48e4-a2a5-a1ec661942d9",
   "metadata": {},
   "source": [
    "# Common functions"
   ]
  },
  {
   "cell_type": "markdown",
   "id": "db9539f9-5433-455b-8cba-29d10a2802fb",
   "metadata": {},
   "source": [
    "## np.arange()"
   ]
  },
  {
   "cell_type": "code",
   "execution_count": 11,
   "id": "64d8246f-53be-491e-a89c-a8fc87586fe1",
   "metadata": {},
   "outputs": [
    {
     "name": "stdout",
     "output_type": "stream",
     "text": [
      "[ 0  1  2  3  4  5  6  7  8  9 10 11 12 13 14 15 16 17 18 19 20 21 22 23\n",
      " 24 25 26 27 28 29 30 31 32 33 34 35 36 37 38 39 40 41 42 43 44 45 46 47\n",
      " 48 49 50 51 52 53 54 55 56 57 58 59 60 61 62 63 64 65 66 67 68 69 70 71\n",
      " 72 73 74 75 76 77 78 79 80 81 82 83 84 85 86 87 88 89 90 91 92 93 94 95\n",
      " 96 97 98 99]\n"
     ]
    }
   ],
   "source": [
    "this_arr=np.arange(100)\n",
    "print (this_arr)"
   ]
  },
  {
   "cell_type": "code",
   "execution_count": 12,
   "id": "a1678037-abba-4224-8c4f-363da0249acd",
   "metadata": {},
   "outputs": [
    {
     "name": "stdout",
     "output_type": "stream",
     "text": [
      "[ 3  6  9 12 15 18 21 24 27 30 33 36 39 42 45 48 51 54 57 60]\n"
     ]
    }
   ],
   "source": [
    "that_arr=np.arange(3,61,3)\n",
    "print(that_arr)\n",
    "#an rray that starts from 3, to 60 at a 3 interval"
   ]
  },
  {
   "cell_type": "markdown",
   "id": "07a20c18-12ce-4ea1-aced-9d1aa933cf6f",
   "metadata": {},
   "source": [
    "## np.random"
   ]
  },
  {
   "cell_type": "markdown",
   "id": "433bbd17-d816-4bef-ac66-9f2084ffa06d",
   "metadata": {},
   "source": [
    "### np.random.permutation()"
   ]
  },
  {
   "cell_type": "code",
   "execution_count": 13,
   "id": "352287c3-49f5-4dfc-ba9f-35b2504f9d2f",
   "metadata": {},
   "outputs": [
    {
     "name": "stdout",
     "output_type": "stream",
     "text": [
      "[4 2 8 6]\n"
     ]
    }
   ],
   "source": [
    "rand_arr=np.random.permutation(range(2,9,2))\n",
    "print(rand_arr)"
   ]
  },
  {
   "cell_type": "markdown",
   "id": "73792a10-747a-41e7-af68-3a8a1462ce38",
   "metadata": {},
   "source": [
    "### np.random.randint()"
   ]
  },
  {
   "cell_type": "code",
   "execution_count": 14,
   "id": "937efe2c-f016-479f-9c6d-0efa59595a90",
   "metadata": {},
   "outputs": [
    {
     "name": "stdout",
     "output_type": "stream",
     "text": [
      "2289\n"
     ]
    }
   ],
   "source": [
    "rand_int=np.random.randint(1,9000)\n",
    "print(rand_int)"
   ]
  },
  {
   "cell_type": "code",
   "execution_count": null,
   "id": "07bd975c-82d6-4986-8935-5ee55eb5b703",
   "metadata": {},
   "outputs": [],
   "source": []
  }
 ],
 "metadata": {
  "kernelspec": {
   "display_name": "Python 3 (ipykernel)",
   "language": "python",
   "name": "python3"
  },
  "language_info": {
   "codemirror_mode": {
    "name": "ipython",
    "version": 3
   },
   "file_extension": ".py",
   "mimetype": "text/x-python",
   "name": "python",
   "nbconvert_exporter": "python",
   "pygments_lexer": "ipython3",
   "version": "3.10.5"
  }
 },
 "nbformat": 4,
 "nbformat_minor": 5
}
