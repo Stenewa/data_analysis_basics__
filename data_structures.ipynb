{
 "cells": [
  {
   "cell_type": "markdown",
   "id": "103718e7-76de-4c1b-bdbc-4861b1dce769",
   "metadata": {},
   "source": [
    "## Lists"
   ]
  },
  {
   "cell_type": "markdown",
   "id": "7c9a1f76-92db-4705-b98b-6ad545832e35",
   "metadata": {},
   "source": [
    "# Data Sets"
   ]
  },
  {
   "cell_type": "code",
   "execution_count": 1,
   "id": "b70fc465-08aa-46e9-bcd4-3594024c4d28",
   "metadata": {},
   "outputs": [
    {
     "data": {
      "text/plain": [
       "list"
      ]
     },
     "execution_count": 1,
     "metadata": {},
     "output_type": "execute_result"
    }
   ],
   "source": [
    "# Lists Defined by square brackets\n",
    "this_list= [35,54.5, \"lists\",\"apples\"]\n",
    "type(this_list)\n"
   ]
  },
  {
   "cell_type": "markdown",
   "id": "8c6b8973-f76f-4f56-b459-e1acc8fcde82",
   "metadata": {},
   "source": [
    "## Tuples"
   ]
  },
  {
   "cell_type": "code",
   "execution_count": 2,
   "id": "f3f24cc6-caf2-4522-8e73-a55f0ca8a27c",
   "metadata": {},
   "outputs": [
    {
     "data": {
      "text/plain": [
       "tuple"
      ]
     },
     "execution_count": 2,
     "metadata": {},
     "output_type": "execute_result"
    }
   ],
   "source": [
    "# Tuples are defined by parentheses\n",
    "this_tuple=(1,6,7.5,\"tree\")\n",
    "type(this_tuple)"
   ]
  },
  {
   "cell_type": "markdown",
   "id": "66a26ff5-4ab2-4db1-8489-479e42ab4c5b",
   "metadata": {},
   "source": [
    "## Sets"
   ]
  },
  {
   "cell_type": "code",
   "execution_count": 3,
   "id": "b1149efe-b3ec-44f1-ac81-457227abcac1",
   "metadata": {},
   "outputs": [
    {
     "data": {
      "text/plain": [
       "set"
      ]
     },
     "execution_count": 3,
     "metadata": {},
     "output_type": "execute_result"
    }
   ],
   "source": [
    "# Sets are defined by use of curly brackets\n",
    "this_set={12,34,666,\"bluey\"}\n",
    "type(this_set)"
   ]
  },
  {
   "cell_type": "markdown",
   "id": "fb41c249-8153-4f3f-aae4-1d951ac20a78",
   "metadata": {},
   "source": [
    "## Dictionary"
   ]
  },
  {
   "cell_type": "code",
   "execution_count": 4,
   "id": "5dbf7ade-0c0e-41ea-aa7c-ebd6a9e1cb2a",
   "metadata": {},
   "outputs": [
    {
     "data": {
      "text/plain": [
       "dict"
      ]
     },
     "execution_count": 4,
     "metadata": {},
     "output_type": "execute_result"
    }
   ],
   "source": [
    "# Dictionaries are defined w/ curly brackets but have key-value pairs\n",
    "this_dictionary={\"a\":15,\"b\":25,\"c\":35,\"d\":45}\n",
    "type(this_dictionary)"
   ]
  },
  {
   "cell_type": "markdown",
   "id": "630f9ec6-4035-4c6b-939b-313d59e2310e",
   "metadata": {},
   "source": [
    "## Accessing data in tuples and Lists"
   ]
  },
  {
   "cell_type": "code",
   "execution_count": 5,
   "id": "1dd01310-6e4c-464a-bbe7-f5c238fda105",
   "metadata": {},
   "outputs": [
    {
     "name": "stdout",
     "output_type": "stream",
     "text": [
      "35\n",
      "1\n"
     ]
    }
   ],
   "source": [
    "# accessing data in tuples and lists\n",
    "\n",
    "print (this_list[0])\n",
    "print (this_tuple[0])"
   ]
  },
  {
   "cell_type": "markdown",
   "id": "8a403da6-8d68-412f-b337-df4dd99e641e",
   "metadata": {},
   "source": [
    "## Accessing data in sets"
   ]
  },
  {
   "cell_type": "code",
   "execution_count": 6,
   "id": "19008fe0-71e5-4e44-b8a8-2713b0ec1fc1",
   "metadata": {},
   "outputs": [
    {
     "name": "stdout",
     "output_type": "stream",
     "text": [
      "False\n"
     ]
    }
   ],
   "source": [
    "print(0 in this_set)\n",
    "# returns false if data not contained in set"
   ]
  },
  {
   "cell_type": "code",
   "execution_count": 7,
   "id": "056202b7-cdee-41f6-bee4-c67b82815c06",
   "metadata": {},
   "outputs": [
    {
     "name": "stdout",
     "output_type": "stream",
     "text": [
      "True\n"
     ]
    }
   ],
   "source": [
    "print(\"bluey\" in this_set)\n",
    "# returns true if data is contained in set"
   ]
  },
  {
   "cell_type": "markdown",
   "id": "4555da0a-da26-451c-9042-43482f768df0",
   "metadata": {},
   "source": [
    "# Accessing data in Dictonaries"
   ]
  },
  {
   "cell_type": "code",
   "execution_count": 8,
   "id": "656c742a-f88a-453f-890c-fb22ff801029",
   "metadata": {},
   "outputs": [
    {
     "name": "stdout",
     "output_type": "stream",
     "text": [
      "15\n"
     ]
    }
   ],
   "source": [
    "print(this_dictionary[\"a\"])"
   ]
  },
  {
   "cell_type": "markdown",
   "id": "f0e08f7d-6fa6-4a50-853f-34d6dda8aca0",
   "metadata": {},
   "source": [
    "## Adding data to:"
   ]
  },
  {
   "cell_type": "markdown",
   "id": "572e5551-5b4a-48f6-a41c-42e94ab10e74",
   "metadata": {},
   "source": [
    "### Lists"
   ]
  },
  {
   "cell_type": "code",
   "execution_count": 9,
   "id": "fed5fa30-3a3f-4bd2-959c-effc5d85580f",
   "metadata": {},
   "outputs": [
    {
     "name": "stdout",
     "output_type": "stream",
     "text": [
      "[35, 54.5, 'lists', 'apples', 'tree']\n"
     ]
    }
   ],
   "source": [
    "# Using an add operator\n",
    "this_list=this_list+ [\"tree\"]\n",
    "print(this_list)"
   ]
  },
  {
   "cell_type": "code",
   "execution_count": 10,
   "id": "faf249c5-1720-4fd1-b093-e24693596c1f",
   "metadata": {},
   "outputs": [
    {
     "name": "stdout",
     "output_type": "stream",
     "text": [
      "[35, 54.5, 'lists', 'apples', 'tree', 'lake']\n"
     ]
    }
   ],
   "source": [
    "# Using .append() function\n",
    "this_list.append(\"lake\")\n",
    "print(this_list)"
   ]
  },
  {
   "cell_type": "markdown",
   "id": "0b25d9e0-ccda-49ae-99e8-0417f64058d7",
   "metadata": {},
   "source": [
    "### Tuples\n",
    "**Tuples can't be appended but there are a few work-arounds that can be implemented**"
   ]
  },
  {
   "cell_type": "markdown",
   "id": "0345a02d-fe60-457e-8786-508ed98ef505",
   "metadata": {},
   "source": [
    "### Sets"
   ]
  },
  {
   "cell_type": "code",
   "execution_count": 11,
   "id": "a2357561-9f4d-434f-9788-39c3125cb6c4",
   "metadata": {},
   "outputs": [
    {
     "name": "stdout",
     "output_type": "stream",
     "text": [
      "{34, 12, 'bluey', 666, 'chocolate'}\n"
     ]
    }
   ],
   "source": [
    "# Adding a single value to a set\n",
    "this_set.add(\"chocolate\")\n",
    "print(this_set)"
   ]
  },
  {
   "cell_type": "code",
   "execution_count": 12,
   "id": "ed141d01-918d-48fe-afd3-eb535c8f16f6",
   "metadata": {},
   "outputs": [
    {
     "name": "stdout",
     "output_type": "stream",
     "text": [
      "{34, 'purple', 777, 8, 12, 'tuna-sandwich', 'bluey', 'ate', 666, 'chocolate'}\n"
     ]
    }
   ],
   "source": [
    " # Adding multiple values to a set\n",
    "this_set.update({777, \"purple\", \"tuna-sandwich\",8, \"ate\"})\n",
    "print(this_set)"
   ]
  },
  {
   "cell_type": "markdown",
   "id": "d0ce3615-eff9-4e61-abab-a0ee375824a7",
   "metadata": {},
   "source": [
    "### Dictionary"
   ]
  },
  {
   "cell_type": "code",
   "execution_count": 13,
   "id": "730d96d0-5c48-47c8-b78e-c9b36cc823f1",
   "metadata": {},
   "outputs": [
    {
     "name": "stdout",
     "output_type": "stream",
     "text": [
      "{'a': 15, 'b': 25, 'c': 35, 'd': 45, 'Axd': 5141, 'bsdbdy': 893893}\n"
     ]
    }
   ],
   "source": [
    "this_dictionary[\"Axd\"]=5141\n",
    "this_dictionary[\"bsdbdy\"]=893893\n",
    "print(this_dictionary)"
   ]
  },
  {
   "cell_type": "markdown",
   "id": "4169b64f-8ea5-4d11-96d9-b81282c74a8d",
   "metadata": {},
   "source": [
    "# Deleting values and entire data sets in:"
   ]
  },
  {
   "cell_type": "markdown",
   "id": "848a5826-2447-4e66-b3c7-487d9b440eda",
   "metadata": {},
   "source": [
    "### Lists"
   ]
  },
  {
   "cell_type": "code",
   "execution_count": 14,
   "id": "6d1f52ed-b1d3-465d-9a02-e6ba2ba312b4",
   "metadata": {},
   "outputs": [
    {
     "name": "stdout",
     "output_type": "stream",
     "text": [
      "[54.5, 'lists', 'apples', 'tree', 'lake']\n"
     ]
    }
   ],
   "source": [
    "# deleting a single value\n",
    "# ie. remove the first value, 35 \n",
    "del this_list[0]\n",
    "print(this_list)\n",
    "# delete the entire list(the function is commented)\n",
    "#del this_list"
   ]
  },
  {
   "cell_type": "markdown",
   "id": "e9665f24-07ae-4ae9-9593-d487f75e87b3",
   "metadata": {},
   "source": [
    "### Tuples\n",
    "**Deleting single values is not possible due to immutability**"
   ]
  },
  {
   "cell_type": "code",
   "execution_count": 15,
   "id": "22ce4caf-0752-4f9d-851e-c0937684ade3",
   "metadata": {},
   "outputs": [
    {
     "name": "stdout",
     "output_type": "stream",
     "text": [
      "{34, 'purple', 777, 8, 12, 'tuna-sandwich', 'bluey', 'ate', 666, 'chocolate'}\n"
     ]
    }
   ],
   "source": [
    "# Deleting an entire tuple\n",
    "# del this_tuple\n",
    "print(this_set)"
   ]
  },
  {
   "cell_type": "markdown",
   "id": "c8bcf60f-df99-4063-a639-9bd6a939e3ed",
   "metadata": {},
   "source": [
    "### Sets"
   ]
  },
  {
   "cell_type": "code",
   "execution_count": 16,
   "id": "f2a53217-4a7c-47ae-8c82-20b9364dd2fd",
   "metadata": {},
   "outputs": [
    {
     "name": "stdout",
     "output_type": "stream",
     "text": [
      "{34, 'purple', 777, 8, 12, 'tuna-sandwich', 'bluey', 'ate', 'chocolate'}\n"
     ]
    }
   ],
   "source": [
    "# Deleting single values in sets\n",
    "this_set.remove(666)\n",
    "print(this_set)"
   ]
  },
  {
   "cell_type": "markdown",
   "id": "ae59d2d9-fedc-4fff-87b0-81e088a115e5",
   "metadata": {},
   "source": [
    "### Dictionaries"
   ]
  },
  {
   "cell_type": "code",
   "execution_count": 17,
   "id": "feda8a33-3122-4819-9738-db95ab131b9f",
   "metadata": {},
   "outputs": [
    {
     "name": "stdout",
     "output_type": "stream",
     "text": [
      "{'a': 15, 'c': 35, 'd': 45, 'Axd': 5141, 'bsdbdy': 893893}\n"
     ]
    }
   ],
   "source": [
    "# Deleting a key value pair \n",
    "del this_dictionary[\"b\"]\n",
    "print(this_dictionary)"
   ]
  },
  {
   "cell_type": "markdown",
   "id": "dc2a7673-6fc6-464a-a084-04209669be33",
   "metadata": {},
   "source": [
    "# Copying Data in:"
   ]
  },
  {
   "cell_type": "markdown",
   "id": "6372491b-a63f-4da4-a56b-50b58f835b3e",
   "metadata": {},
   "source": [
    "### Lists"
   ]
  },
  {
   "cell_type": "code",
   "execution_count": 18,
   "id": "51b53fa7-7cf9-433b-907c-c70a3d109500",
   "metadata": {},
   "outputs": [
    {
     "name": "stdout",
     "output_type": "stream",
     "text": [
      "[54.5, 'lists', 'apples', 'tree', 'lake']\n"
     ]
    }
   ],
   "source": [
    "copy_list=this_list.copy()\n",
    "print(copy_list)"
   ]
  },
  {
   "cell_type": "markdown",
   "id": "574b4ec6-5f47-4a8d-b444-2c3b952f67d5",
   "metadata": {},
   "source": [
    "### Tuples"
   ]
  },
  {
   "cell_type": "code",
   "execution_count": 19,
   "id": "416b9154-21ac-419d-b7a3-5a8315597e28",
   "metadata": {},
   "outputs": [
    {
     "name": "stdout",
     "output_type": "stream",
     "text": [
      "(1, 6, 7.5, 'tree')\n"
     ]
    }
   ],
   "source": [
    "copy_tuple=this_tuple\n",
    "print(copy_tuple)"
   ]
  },
  {
   "cell_type": "markdown",
   "id": "7c9e5d35-3193-4762-92fd-fb589f8cf9fb",
   "metadata": {},
   "source": [
    "### Sets"
   ]
  },
  {
   "cell_type": "code",
   "execution_count": 20,
   "id": "12097181-6bc9-45d9-925b-d49229f8005a",
   "metadata": {},
   "outputs": [
    {
     "name": "stdout",
     "output_type": "stream",
     "text": [
      "{34, 'purple', 777, 8, 12, 'bluey', 'ate', 'tuna-sandwich', 'chocolate'}\n"
     ]
    }
   ],
   "source": [
    "copy_set=this_set.copy()\n",
    "print(copy_set)"
   ]
  },
  {
   "cell_type": "markdown",
   "id": "fe0d7e55-97de-4873-9f4b-ec747cc10d45",
   "metadata": {},
   "source": [
    "### Dicionaries"
   ]
  },
  {
   "cell_type": "code",
   "execution_count": 21,
   "id": "36351bad-5c07-4501-a92f-a8d3a8fe963c",
   "metadata": {},
   "outputs": [
    {
     "name": "stdout",
     "output_type": "stream",
     "text": [
      "{'a': 15, 'c': 35, 'd': 45, 'Axd': 5141, 'bsdbdy': 893893}\n"
     ]
    }
   ],
   "source": [
    "copy_dict=this_dictionary.copy()\n",
    "print(copy_dict)"
   ]
  },
  {
   "cell_type": "code",
   "execution_count": null,
   "id": "905be734-ad01-4908-b5e7-dc7c66e17f09",
   "metadata": {},
   "outputs": [],
   "source": []
  }
 ],
 "metadata": {
  "kernelspec": {
   "display_name": "Python 3 (ipykernel)",
   "language": "python",
   "name": "python3"
  },
  "language_info": {
   "codemirror_mode": {
    "name": "ipython",
    "version": 3
   },
   "file_extension": ".py",
   "mimetype": "text/x-python",
   "name": "python",
   "nbconvert_exporter": "python",
   "pygments_lexer": "ipython3",
   "version": "3.10.5"
  }
 },
 "nbformat": 4,
 "nbformat_minor": 5
}
