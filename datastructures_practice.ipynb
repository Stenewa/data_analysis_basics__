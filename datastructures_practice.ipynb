{
 "cells": [
  {
   "cell_type": "code",
   "execution_count": 1,
   "id": "c91fa5d6-3c33-4130-8f0d-a5f92412bcc2",
   "metadata": {},
   "outputs": [
    {
     "name": "stdin",
     "output_type": "stream",
     "text": [
      "Please Enter student ID: 5679\n",
      "Please enter maths marks: 23\n",
      "Please enter English marks: 38\n",
      "Please enter Science marks: 87\n",
      "Please Enter student ID: 8976\n",
      "Please enter maths marks: 45\n",
      "Please enter English marks: 83\n",
      "Please enter Science marks: 23\n",
      "Please Enter student ID: 29\n",
      "Please enter maths marks: 68\n",
      "Please enter English marks: 57\n",
      "Please enter Science marks: 36\n"
     ]
    },
    {
     "name": "stdout",
     "output_type": "stream",
     "text": [
      "{'5679': (23, 38, 87), '8976': (45, 83, 23), '29': (68, 57, 36)}\n",
      "{'5679': 49, '8976': 50, '29': 54}\n"
     ]
    }
   ],
   "source": [
    "def getStudentMarks():\n",
    "    marksList={}\n",
    "    avemarks={}\n",
    "    for x in range(3):\n",
    "        studentID=input(\"Please Enter student ID:\")\n",
    "        maths=int(input(\"Please enter maths marks:\"))\n",
    "        eng=int(input(\"Please enter English marks:\"))\n",
    "        science=int(input(\"Please enter Science marks:\"))\n",
    "        ave=round((maths+eng+science)/3)\n",
    "        marksList [studentID]=maths,eng,science\n",
    "        avemarks[studentID]=ave\n",
    "    print(marksList)\n",
    "    print(avemarks)\n",
    "getStudentMarks()"
   ]
  },
  {
   "cell_type": "code",
   "execution_count": 1,
   "id": "e8d3be04-184d-4f27-846b-d4e4d8734ef0",
   "metadata": {},
   "outputs": [],
   "source": [
    "import pandas as pd"
   ]
  },
  {
   "cell_type": "code",
   "execution_count": null,
   "id": "99e4ad38-41ec-4384-9b0c-272757e4bf35",
   "metadata": {},
   "outputs": [],
   "source": []
  }
 ],
 "metadata": {
  "kernelspec": {
   "display_name": "Python 3 (ipykernel)",
   "language": "python",
   "name": "python3"
  },
  "language_info": {
   "codemirror_mode": {
    "name": "ipython",
    "version": 3
   },
   "file_extension": ".py",
   "mimetype": "text/x-python",
   "name": "python",
   "nbconvert_exporter": "python",
   "pygments_lexer": "ipython3",
   "version": "3.10.5"
  }
 },
 "nbformat": 4,
 "nbformat_minor": 5
}
