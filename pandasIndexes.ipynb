{
 "cells": [
  {
   "cell_type": "code",
   "execution_count": 1,
   "id": "40fdf002-9355-4b52-9b42-3c92d6907514",
   "metadata": {},
   "outputs": [],
   "source": [
    "import pandas as pd"
   ]
  },
  {
   "cell_type": "code",
   "execution_count": 3,
   "id": "bf2ff92a-ab46-4971-9597-56347a9af9ce",
   "metadata": {},
   "outputs": [],
   "source": [
    "#lists enable mulltiple entries. Encapsullating lists in a dictionary\n",
    "people= {\n",
    "    \"fname\":[\"muthomi\", \"kate\",\"kiarie\"],\n",
    "    \"lname\":[\"kinju\",\"njoki\",\"kirimi\"],\n",
    "    \"email\":[\"kinju@gmail.com\",\"njoki@gmail.com\",\"kirimi@gmail.com\"]\n",
    "}"
   ]
  },
  {
   "cell_type": "code",
   "execution_count": 4,
   "id": "5b366dde-c0e9-419e-8573-a0b520d4fce2",
   "metadata": {},
   "outputs": [],
   "source": [
    "this_df=pd.DataFrame(people)"
   ]
  },
  {
   "cell_type": "code",
   "execution_count": 7,
   "id": "878aba8f-9ae5-4f11-85ba-23e4f9ba44fb",
   "metadata": {},
   "outputs": [],
   "source": [
    "this_df.set_index(\"fname\",inplace=True)"
   ]
  },
  {
   "cell_type": "code",
   "execution_count": 8,
   "id": "0ac20cd4-8cd6-4319-be61-d139b0420797",
   "metadata": {},
   "outputs": [
    {
     "data": {
      "text/plain": [
       "Index(['muthomi', 'kate', 'kiarie'], dtype='object', name='fname')"
      ]
     },
     "execution_count": 8,
     "metadata": {},
     "output_type": "execute_result"
    }
   ],
   "source": [
    "this_df.index"
   ]
  },
  {
   "cell_type": "code",
   "execution_count": 13,
   "id": "d8757468-3ce6-4613-bd39-eb0d6df8545a",
   "metadata": {},
   "outputs": [
    {
     "data": {
      "text/plain": [
       "lname              njoki\n",
       "email    njoki@gmail.com\n",
       "Name: kate, dtype: object"
      ]
     },
     "execution_count": 13,
     "metadata": {},
     "output_type": "execute_result"
    }
   ],
   "source": [
    "this_df.loc[\"kate\"]"
   ]
  },
  {
   "cell_type": "code",
   "execution_count": 16,
   "id": "ab093c38-6867-4684-a1be-55aab626b5b0",
   "metadata": {},
   "outputs": [
    {
     "data": {
      "text/plain": [
       "'njoki@gmail.com'"
      ]
     },
     "execution_count": 16,
     "metadata": {},
     "output_type": "execute_result"
    }
   ],
   "source": [
    "this_df.loc[\"kate\", \"email\"]"
   ]
  },
  {
   "cell_type": "code",
   "execution_count": null,
   "id": "62fadbe4-c596-4a3c-af37-5d88f4f0ddb6",
   "metadata": {},
   "outputs": [],
   "source": []
  }
 ],
 "metadata": {
  "kernelspec": {
   "display_name": "Python 3 (ipykernel)",
   "language": "python",
   "name": "python3"
  },
  "language_info": {
   "codemirror_mode": {
    "name": "ipython",
    "version": 3
   },
   "file_extension": ".py",
   "mimetype": "text/x-python",
   "name": "python",
   "nbconvert_exporter": "python",
   "pygments_lexer": "ipython3",
   "version": "3.10.5"
  }
 },
 "nbformat": 4,
 "nbformat_minor": 5
}
