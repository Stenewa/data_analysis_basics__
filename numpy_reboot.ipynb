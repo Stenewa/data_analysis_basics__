{
 "cells": [
  {
   "cell_type": "code",
   "execution_count": 1,
   "id": "528f1cdc-e81f-439b-bec3-b5767f260909",
   "metadata": {},
   "outputs": [],
   "source": [
    "import numpy as np"
   ]
  },
  {
   "cell_type": "markdown",
   "id": "aa185f9b-1c39-4558-9d0a-a7d3103faa7a",
   "metadata": {},
   "source": [
    "## vectors\n"
   ]
  },
  {
   "cell_type": "code",
   "execution_count": 2,
   "id": "ef176ebf-b4c5-4243-b0a8-08ddbe5dd1e9",
   "metadata": {},
   "outputs": [
    {
     "name": "stdout",
     "output_type": "stream",
     "text": [
      "<class 'numpy.ndarray'>\n",
      "(3,)\n",
      "1\n",
      "3\n"
     ]
    }
   ],
   "source": [
    "vect_a=np.array([1,2,3])\n",
    "print(type(vect_a))\n",
    "print(vect_a.shape)\n",
    "print(vect_a.ndim)\n",
    "print(vect_a.size)"
   ]
  },
  {
   "cell_type": "markdown",
   "id": "6c779f66-aed2-4215-9b9c-9455daea4c58",
   "metadata": {},
   "source": [
    "## matrices"
   ]
  },
  {
   "cell_type": "code",
   "execution_count": 3,
   "id": "f6334b95-cfde-4d9d-b711-871511f145d9",
   "metadata": {},
   "outputs": [
    {
     "name": "stdout",
     "output_type": "stream",
     "text": [
      "[[1 2 3]\n",
      " [4 5 6]]\n"
     ]
    }
   ],
   "source": [
    "#rank2 or 2d array\n",
    "mat_a=np.array([[1,2,3],[4,5,6]])\n",
    "print(mat_a)"
   ]
  },
  {
   "cell_type": "code",
   "execution_count": 4,
   "id": "1b5bdc2d-166c-4de9-85d1-2f19a393418d",
   "metadata": {},
   "outputs": [
    {
     "name": "stdout",
     "output_type": "stream",
     "text": [
      "[[[ 1  2]\n",
      "  [ 3  4]]\n",
      "\n",
      " [[ 5  6]\n",
      "  [ 7  8]]\n",
      "\n",
      " [[ 9 10]\n",
      "  [11 12]]]\n",
      "3\n",
      "\n"
     ]
    }
   ],
   "source": [
    "#rank3 or 3d array\n",
    "mat_b=np.array([[[1,2],[3,4]],[[5,6],[7,8]],[[9,10],[11,12]]])\n",
    "print(mat_b)\n",
    "print(mat_b.ndim)\n",
    "print()"
   ]
  },
  {
   "cell_type": "code",
   "execution_count": 5,
   "id": "e09a64f9-0b54-4e63-a39f-5cd5b6c6fec3",
   "metadata": {},
   "outputs": [
    {
     "name": "stdout",
     "output_type": "stream",
     "text": [
      "4\n"
     ]
    },
    {
     "data": {
      "text/plain": [
       "True"
      ]
     },
     "execution_count": 5,
     "metadata": {},
     "output_type": "execute_result"
    }
   ],
   "source": [
    "#accessing elements in a matrix\n",
    "mat_b=np.array([[[1,2],[3,4]],[[5,6],[7,8]],[[9,10],[11,12]]])\n",
    "print(mat_b[0,1,1])\n",
    "mat_b[1,0,1]==6"
   ]
  },
  {
   "cell_type": "code",
   "execution_count": 6,
   "id": "6e40c670-edb1-42f6-ad76-775f45ca18f3",
   "metadata": {},
   "outputs": [
    {
     "data": {
      "text/plain": [
       "array([[[ 1,  5,  9],\n",
       "        [ 3,  7, 11]],\n",
       "\n",
       "       [[ 2,  6, 10],\n",
       "        [ 4,  8, 12]]])"
      ]
     },
     "execution_count": 6,
     "metadata": {},
     "output_type": "execute_result"
    }
   ],
   "source": [
    "#taking the transpose of a matrix\n",
    "mat_b=np.array([[[1,2],[3,4]],[[5,6],[7,8]],[[9,10],[11,12]]])\n",
    "np.transpose(mat_b)"
   ]
  },
  {
   "cell_type": "code",
   "execution_count": 7,
   "id": "a11b0e3d-342a-40fb-991b-42db16f5770c",
   "metadata": {},
   "outputs": [
    {
     "data": {
      "text/plain": [
       "array([[[ 1,  5,  9],\n",
       "        [ 3,  7, 11]],\n",
       "\n",
       "       [[ 2,  6, 10],\n",
       "        [ 4,  8, 12]]])"
      ]
     },
     "execution_count": 7,
     "metadata": {},
     "output_type": "execute_result"
    }
   ],
   "source": [
    "#transpose of a matrix\n",
    "mat_b=np.array([[[1,2],[3,4]],[[5,6],[7,8]],[[9,10],[11,12]]])\n",
    "np.transpose(mat_b)"
   ]
  },
  {
   "cell_type": "markdown",
   "id": "c7060ec6-a08e-4ee0-8b28-8363d6a6619d",
   "metadata": {},
   "source": [
    "## In-built arrays"
   ]
  },
  {
   "cell_type": "code",
   "execution_count": 8,
   "id": "e5f53914-eb3d-419d-a4b6-7ca2f304859a",
   "metadata": {},
   "outputs": [
    {
     "data": {
      "text/plain": [
       "array([[0., 0., 0.],\n",
       "       [0., 0., 0.],\n",
       "       [0., 0., 0.],\n",
       "       [0., 0., 0.]])"
      ]
     },
     "execution_count": 8,
     "metadata": {},
     "output_type": "execute_result"
    }
   ],
   "source": [
    "#all zeroes as the elements\n",
    "zeros=np.zeros((4,3))\n",
    "zeros"
   ]
  },
  {
   "cell_type": "code",
   "execution_count": 9,
   "id": "49884c0d-4c31-424d-8747-fd7257b3dcdc",
   "metadata": {},
   "outputs": [
    {
     "data": {
      "text/plain": [
       "array([[1., 1., 1.],\n",
       "       [1., 1., 1.],\n",
       "       [1., 1., 1.]])"
      ]
     },
     "execution_count": 9,
     "metadata": {},
     "output_type": "execute_result"
    }
   ],
   "source": [
    "#array containing all ones\n",
    "ones=np.ones((3,3))\n",
    "ones"
   ]
  },
  {
   "cell_type": "code",
   "execution_count": 10,
   "id": "e3ab2048-bac6-4ff8-8116-1877a9d899c0",
   "metadata": {},
   "outputs": [
    {
     "data": {
      "text/plain": [
       "array([[6, 6, 6],\n",
       "       [6, 6, 6]])"
      ]
     },
     "execution_count": 10,
     "metadata": {},
     "output_type": "execute_result"
    }
   ],
   "source": [
    "#a specified number\n",
    "spec=np.full((2,3),6)\n",
    "spec"
   ]
  },
  {
   "cell_type": "code",
   "execution_count": 11,
   "id": "64859b5d-3f08-4fe8-8ec2-e022cc3ee440",
   "metadata": {},
   "outputs": [
    {
     "data": {
      "text/plain": [
       "array([[0.45265604, 0.90210012, 0.54720893, 0.12280703],\n",
       "       [0.18970131, 0.12479909, 0.2424149 , 0.07140269]])"
      ]
     },
     "execution_count": 11,
     "metadata": {},
     "output_type": "execute_result"
    }
   ],
   "source": [
    "#random elements b2n 0.0 and 1.0\n",
    "random=np.random.rand(2,4)\n",
    "random"
   ]
  },
  {
   "cell_type": "code",
   "execution_count": 12,
   "id": "b083782d-a101-4889-8ee6-58c929eae568",
   "metadata": {},
   "outputs": [
    {
     "data": {
      "text/plain": [
       "array([[7, 1, 4, 2],\n",
       "       [3, 9, 4, 3],\n",
       "       [9, 2, 2, 4]])"
      ]
     },
     "execution_count": 12,
     "metadata": {},
     "output_type": "execute_result"
    }
   ],
   "source": [
    "#random integers with the specified highest number\n",
    "randint=np.random.randint(10,size=(3,4))\n",
    "randint"
   ]
  },
  {
   "cell_type": "code",
   "execution_count": 13,
   "id": "1ebbf222-9312-4e1f-8a55-1e85d7772e06",
   "metadata": {},
   "outputs": [
    {
     "data": {
      "text/plain": [
       "array([[1., 0., 0., 0.],\n",
       "       [0., 1., 0., 0.],\n",
       "       [0., 0., 1., 0.],\n",
       "       [0., 0., 0., 1.]])"
      ]
     },
     "execution_count": 13,
     "metadata": {},
     "output_type": "execute_result"
    }
   ],
   "source": [
    "#identity matrix\n",
    "id_1=np.eye(3,4)\n",
    "id_1\n",
    "id_2=np.eye(4)\n",
    "id_2"
   ]
  },
  {
   "cell_type": "code",
   "execution_count": 19,
   "id": "08695b98-73a9-4a44-b232-c1fbfda7af5e",
   "metadata": {},
   "outputs": [
    {
     "name": "stdout",
     "output_type": "stream",
     "text": [
      "[[16 14]\n",
      " [16  0]]\n",
      "[[16 14]\n",
      " [16  0]]\n"
     ]
    }
   ],
   "source": [
    "#slicing and memory allocation in ndarrays \n",
    "this_arr=np.random.randint(25, size=(3,4))\n",
    "#slice a 2*2 matrix\n",
    "this_slice=this_arr[1:3,2:5]\n",
    "#slice an array to an independent memory location\n",
    "new_arr=np.array(this_arr[1:3,2:5])\n",
    "print(new_arr)\n",
    "print(this_slice)"
   ]
  },
  {
   "cell_type": "code",
   "execution_count": 25,
   "id": "b43edcf0-30bd-454d-964b-84504a1fcb65",
   "metadata": {},
   "outputs": [
    {
     "name": "stdout",
     "output_type": "stream",
     "text": [
      "[[1.1 2.2 4.4 3.3]]\n",
      "[[0.9 1.8 3.6 2.7]]\n"
     ]
    }
   ],
   "source": [
    "#upcast in numpy\n",
    "x=np.array([[1,2,4,3]])\n",
    "y=np.array([[0.1,0.2,0.4,0.3]],dtype=np.float64)\n",
    "print(x+y)\n",
    "print(x-y)"
   ]
  },
  {
   "cell_type": "code",
   "execution_count": 26,
   "id": "89455351-cf6e-4f0f-8217-f08bdd5def04",
   "metadata": {},
   "outputs": [
    {
     "name": "stdout",
     "output_type": "stream",
     "text": [
      "[[1.         1.41421356 2.         1.73205081]]\n"
     ]
    }
   ],
   "source": [
    "#squareroots of an element\n",
    "print(np.sqrt(x))"
   ]
  },
  {
   "cell_type": "code",
   "execution_count": 30,
   "id": "9d14473d-410e-40e7-b6a7-5878441eec4a",
   "metadata": {},
   "outputs": [
    {
     "name": "stdout",
     "output_type": "stream",
     "text": [
      "[[3 5 6 2 1]\n",
      " [6 3 0 2 1]\n",
      " [5 4 4 4 6]\n",
      " [5 7 4 5 7]]\n",
      "[19 19 14 13 15]\n"
     ]
    }
   ],
   "source": [
    "#sum over rows\n",
    "sor=np.random.randint(10,size=[4,5])\n",
    "print(sor)\n",
    "print(np.sum(sor,axis=0))"
   ]
  },
  {
   "cell_type": "code",
   "execution_count": 31,
   "id": "a0257913-da8f-4869-81c7-d88d2e068bdc",
   "metadata": {},
   "outputs": [
    {
     "name": "stdout",
     "output_type": "stream",
     "text": [
      "[17 12 23 28]\n"
     ]
    }
   ],
   "source": [
    "#sum over cols\n",
    "print(np.sum(sor,axis=1))"
   ]
  },
  {
   "cell_type": "code",
   "execution_count": 34,
   "id": "caccf95a-bd10-4c79-8984-b9e3dc9ece36",
   "metadata": {},
   "outputs": [
    {
     "name": "stdout",
     "output_type": "stream",
     "text": [
      "[[0.1 0.4 1.6 0.9]]\n"
     ]
    }
   ],
   "source": [
    "#product of twomatrices\n",
    "print(x * y)"
   ]
  },
  {
   "cell_type": "code",
   "execution_count": null,
   "id": "9dbb6089-7519-466b-b02a-36cac79de161",
   "metadata": {},
   "outputs": [],
   "source": []
  }
 ],
 "metadata": {
  "kernelspec": {
   "display_name": "Python 3 (ipykernel)",
   "language": "python",
   "name": "python3"
  },
  "language_info": {
   "codemirror_mode": {
    "name": "ipython",
    "version": 3
   },
   "file_extension": ".py",
   "mimetype": "text/x-python",
   "name": "python",
   "nbconvert_exporter": "python",
   "pygments_lexer": "ipython3",
   "version": "3.10.5"
  }
 },
 "nbformat": 4,
 "nbformat_minor": 5
}
